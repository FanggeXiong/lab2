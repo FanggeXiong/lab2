{
  "cells": [
    {
      "cell_type": "code",
      "execution_count": 1,
      "metadata": {
        "id": "EtnaSlH-wplB"
      },
      "outputs": [],
      "source": [
        "# @author:          Fangge Xiong\n",
        "# @email:           fanggx@uw.edu\n",
        "# @organization:    Department of Geography, University of Washington, Seattle\n",
        "# @description: This program searches geo-tagged tweets within the U.S."
      ]
    },
    {
      "cell_type": "code",
      "execution_count": 2,
      "metadata": {
        "id": "f-bMdKMawxnQ",
        "outputId": "77a54ae1-b92c-4e5b-dd6e-7c556fea03bd",
        "colab": {
          "base_uri": "https://localhost:8080/"
        }
      },
      "outputs": [
        {
          "output_type": "stream",
          "name": "stdout",
          "text": [
            "Mounted at /gdrive\n"
          ]
        }
      ],
      "source": [
        "import tweepy, json, time\n",
        "import pandas as pd\n",
        "from google.colab import files\n",
        "# Create data on to Google Drive\n",
        "from google.colab import drive\n",
        "# Mount your Drive to the Colab VM.\n",
        "drive.mount('/gdrive')"
      ]
    },
    {
      "cell_type": "code",
      "execution_count": 3,
      "metadata": {
        "id": "dEyPts-ZwplE"
      },
      "outputs": [],
      "source": [
        "class StreamListener(tweepy.StreamListener):\n",
        "    \"\"\"tweepy.StreamListener is a class provided by tweepy used to access\n",
        "    the Twitter Streaming API to collect tweets in real-time.\n",
        "    \"\"\"\n",
        "\n",
        "    def __init__(self, time_limit=60, file=\"\"):\n",
        "        \"\"\"class initialization\"\"\"\n",
        "        self.start_time = time.time()\n",
        "        self.limit = time_limit\n",
        "        self.result = []\n",
        "        self.f = file\n",
        "        super(StreamListener, self).__init__()\n",
        "\n",
        "    def on_data(self, data):\n",
        "        \"\"\"This is called when data are streamed in.\"\"\"\n",
        "        if (time.time() - self.start_time) < self.limit:\n",
        "            datajson = json.loads(data)\n",
        "            # print(datajson, \"\\n\")\n",
        "            if 'id' not in datajson.keys():\n",
        "                time.sleep(10)\n",
        "            else:\n",
        "                id = datajson['id']\n",
        "                username = datajson['user']['screen_name']\n",
        "                created_at = datajson['created_at']\n",
        "                text = datajson['text'].strip().replace(\"\\n\", \"\")\n",
        "\n",
        "                # process the geo-tags\n",
        "                if datajson['coordinates'] == None:\n",
        "                    try:\n",
        "                        bbox = datajson['place']['bounding_box']['coordinates'][0]\n",
        "                        lng = (bbox[0][0] + bbox[2][0]) / 2.0\n",
        "                        lat = (bbox[0][1] + bbox[1][1]) / 2.0\n",
        "                    except:\n",
        "                        lat = 0\n",
        "                        lng = 0\n",
        "                else:\n",
        "                    lng = datajson['coordinates']['coordinates'][0]\n",
        "                    lat = datajson['coordinates']['coordinates'][1]\n",
        "\n",
        "                if lat != 0:\n",
        "                    row = {\n",
        "                        'id': id,\n",
        "                        'username': username,\n",
        "                        'created_at': created_at,\n",
        "                        'lng': lng,\n",
        "                        'lat': lat,\n",
        "                        'text': text\n",
        "                    }\n",
        "                    print(row)\n",
        "                    self.result.append(row)\n",
        "                else:\n",
        "                    pass\n",
        "        else:\n",
        "            df = pd.DataFrame(self.result)\n",
        "            df.to_csv(self.f, index=False)\n",
        "            # download the csv to your local computer\n",
        "            files.download(self.f)\n",
        "            print(\"the csv has been downloaded to your local computer. The program has been completed successfully.\")\n",
        "            return False"
      ]
    },
    {
      "cell_type": "code",
      "execution_count": 4,
      "metadata": {
        "id": "5Xzyo_OiwplG",
        "outputId": "9c098817-8e42-4a5a-ceab-db940abc6faa",
        "colab": {
          "base_uri": "https://localhost:8080/",
          "height": 1000
        }
      },
      "outputs": [
        {
          "output_type": "stream",
          "name": "stdout",
          "text": [
            "{'id': 1517638257651052546, 'username': 'undomaggie', 'created_at': 'Fri Apr 22 22:55:31 +0000 2022', 'lng': -122.455344, 'lat': 47.242960499999995, 'text': 'Everyone look at what I did to @Deadtown_Nothin’s hair!!! https://t.co/rku4kegMgq'}\n",
            "{'id': 1517638296851017728, 'username': 'FridayTea', 'created_at': 'Fri Apr 22 22:55:40 +0000 2022', 'lng': -122.3306025, 'lat': 47.614817, 'text': '¡RESTOCK ALERT!One dozen Fellowship Samplers available online! Eight more restocked at our flagship store as well… https://t.co/mIrvAWN3BA'}\n",
            "{'id': 1517638298528739328, 'username': 'serenaanoelle', 'created_at': 'Fri Apr 22 22:55:41 +0000 2022', 'lng': -122.5889745, 'lat': 45.630589, 'text': 'I love my girlfriend sooooo much'}\n",
            "{'id': 1517638302735605761, 'username': 'BeehiveExpresso', 'created_at': 'Fri Apr 22 22:55:42 +0000 2022', 'lng': -122.35777250000001, 'lat': 47.818622500000004, 'text': 'Come to Edmonds Beehive and play with Blair 😻😻😻 21408 Highway 99 ✊🏼🍌💦💦 cum before 6pm https://t.co/yxMvDXN0yo'}\n",
            "{'id': 1517638307139792897, 'username': 'TotalTrafficSEA', 'created_at': 'Fri Apr 22 22:55:43 +0000 2022', 'lng': -121.8774, 'lat': 47.5098, 'text': 'Accident. Left lane blocked in #Snoqualmie on I-90 WB between WA-18/Exit 25 and Preston - Fall City Rd SE (82nd St… https://t.co/CsKinhtMZi'}\n",
            "{'id': 1517638310105161728, 'username': 'TotalTrafficPOR', 'created_at': 'Fri Apr 22 22:55:44 +0000 2022', 'lng': -122.5822, 'lat': 45.42269, 'text': 'Accident. Right Shoulder in #Portland on Hwy 224 (Milwaukie EXPY) EB at SE Johnson Rd, stopped traffic back to SE H… https://t.co/I9pju09X09'}\n",
            "{'id': 1517638336160010241, 'username': 'navhazard88', 'created_at': 'Fri Apr 22 22:55:50 +0000 2022', 'lng': -122.6557945, 'lat': 47.4939445, 'text': 'So he parties with Hunter now? 😬🤣'}\n",
            "{'id': 1517638348231245825, 'username': 'maxwalkerkicks', 'created_at': 'Fri Apr 22 22:55:53 +0000 2022', 'lng': -122.455344, 'lat': 47.242960499999995, 'text': '@Camron_Watkins5 @JakeCookus @BeaverFootball @CoachSaparto @ThePuntFactory @Chris_Sailer @RylandSpencer @bprepfootball Thank you!'}\n",
            "{'id': 1517638361246175232, 'username': 'tmj_WA_secure', 'created_at': 'Fri Apr 22 22:55:56 +0000 2022', 'lng': -122.2054035, 'lat': 47.7623204, 'text': 'Click the link in our bio to see currently open Security Officer jobs like \"Security Officer - Clinical Research Fa… https://t.co/4EHcsD3HAT'}\n",
            "{'id': 1517638375930433536, 'username': 'straitarrow10', 'created_at': 'Fri Apr 22 22:55:59 +0000 2022', 'lng': -120.882482, 'lat': 47.273022, 'text': 'You, David Hogg, should be the one running. We need people like you in Government. You are so far ahead of those 40… https://t.co/OQoBxGC70s'}\n",
            "{'id': 1517638386357481473, 'username': 'maxwalkerkicks', 'created_at': 'Fri Apr 22 22:56:02 +0000 2022', 'lng': -122.455344, 'lat': 47.242960499999995, 'text': '@bprepfootball @JakeCookus @BeaverFootball @CoachSaparto @ThePuntFactory @Chris_Sailer @RylandSpencer Thank you!'}\n",
            "{'id': 1517638402736201728, 'username': 'iembot_riw', 'created_at': 'Fri Apr 22 22:56:06 +0000 2022', 'lng': -107.554562, 'lat': 43.000325000000004, 'text': 'GREYBULL/SOUTH BIG HORN CNTY APT,WY (GEY) ASOS reports gust of 51 knots (58.7 mph) from NW @ 2241Z -- KGEY 222253Z… https://t.co/OQAp3tdWf1'}\n",
            "{'id': 1517638411963707392, 'username': 'maxwalkerkicks', 'created_at': 'Fri Apr 22 22:56:08 +0000 2022', 'lng': -122.455344, 'lat': 47.242960499999995, 'text': '@BulisCourtney @JakeCookus @BeaverFootball @CoachSaparto @ThePuntFactory @Chris_Sailer @RylandSpencer @bprepfootball Thank you!!'}\n",
            "{'id': 1517638467999600641, 'username': 'alyknits', 'created_at': 'Fri Apr 22 22:56:21 +0000 2022', 'lng': -120.882482, 'lat': 47.273022, 'text': '@kariebookish You asked the question. Others sharpened their knives.'}\n",
            "{'id': 1517638489918951425, 'username': 'maxwalkerkicks', 'created_at': 'Fri Apr 22 22:56:27 +0000 2022', 'lng': -122.455344, 'lat': 47.242960499999995, 'text': '@MatthewFaulk49 @ThePuntFactory @JakeCookus @BeaverFootball @CoachSaparto @Chris_Sailer @RylandSpencer @bprepfootball Your next my boy💯'}\n",
            "{'id': 1517638545195737088, 'username': 'RedBlueBlur1693', 'created_at': 'Fri Apr 22 22:56:40 +0000 2022', 'lng': -122.3306025, 'lat': 47.614817, 'text': 'The president is in town, traffic is bonkers'}\n",
            "{'id': 1517638570797805568, 'username': 'NotRodJr', 'created_at': 'Fri Apr 22 22:56:46 +0000 2022', 'lng': -122.630908, 'lat': 45.536402, 'text': '@thekevinfluence The answer is PED’s'}\n",
            "{'id': 1517638609020461056, 'username': 'j727a', 'created_at': 'Fri Apr 22 22:56:55 +0000 2022', 'lng': -122.3306025, 'lat': 47.614817, 'text': 'Still a chance to donate! Shoot a thon is tonight at 6pm! Link in comments! Thank you! https://t.co/JBQw5ciesv'}\n",
            "{'id': 1517638614666031104, 'username': 'SEASports710', 'created_at': 'Fri Apr 22 22:56:56 +0000 2022', 'lng': -122.3306025, 'lat': 47.614817, 'text': 'If you were listening to @WymanAndBob, here is the ball that got blasted into our broadcast set. Thankfully it was… https://t.co/kDEqmw1j1k'}\n",
            "{'id': 1517638621792129024, 'username': 'QuickestTempa', 'created_at': 'Fri Apr 22 22:56:58 +0000 2022', 'lng': -122.4269055, 'lat': 47.0895845, 'text': 'Might have to cop these https://t.co/B3GotZK9Oq'}\n",
            "{'id': 1517638632001064960, 'username': 'vanessaaraizaa', 'created_at': 'Fri Apr 22 22:57:00 +0000 2022', 'lng': -120.52975950000001, 'lat': 46.5942225, 'text': '@kaarinaaa0 girll stop being a stranger &amp; come around more \\U0001faf6🏻'}\n",
            "{'id': 1517638633745907715, 'username': 'jonstephens85', 'created_at': 'Fri Apr 22 22:57:01 +0000 2022', 'lng': -123.029015, 'lat': 44.935084, 'text': '@Hey_Billy Not even close. But I like that you noticed the similarities in stance. I’m about to post the NeRF.'}\n",
            "{'id': 1517638780873699330, 'username': 'salsaverde81', 'created_at': 'Fri Apr 22 22:57:36 +0000 2022', 'lng': -122.3306025, 'lat': 47.614817, 'text': '@RepSwalwell @TuckerCarlson Cocaine is a hell of a drug.'}\n",
            "{'id': 1517638812062470145, 'username': 'anthonytbroome', 'created_at': 'Fri Apr 22 22:57:43 +0000 2022', 'lng': -122.3306025, 'lat': 47.614817, 'text': '@Alex_Drain I wish it were that difficult. I miss plane season.'}\n",
            "{'id': 1517638813983469568, 'username': 'FDoobbs', 'created_at': 'Fri Apr 22 22:57:44 +0000 2022', 'lng': -122.138874, 'lat': 47.7252275, 'text': 'I still have flashbacks of the revolution when we would go to school in a house, #foxnews , I would talk to the tea… https://t.co/DJUBl2vb9B'}\n",
            "{'id': 1517638853669969920, 'username': 'shhcheesecake', 'created_at': 'Fri Apr 22 22:57:53 +0000 2022', 'lng': -122.506779, 'lat': 47.157103000000006, 'text': '@JesikaVaylen Mine too!!!!!'}\n",
            "{'id': 1517638865430872064, 'username': 'tmj_IDN_HRTA', 'created_at': 'Fri Apr 22 22:57:56 +0000 2022', 'lng': -116.6132313, 'lat': 43.5896264, 'text': \"We're hiring in #Nampa, ID! Click the link in our bio to apply to this job and more: Service Assistant at Inspire Brands #Hospitality\"}\n",
            "{'id': 1517638902906953728, 'username': 'Kikemiamigo14', 'created_at': 'Fri Apr 22 22:58:05 +0000 2022', 'lng': -122.29648850000001, 'lat': 47.442583, 'text': '@Thephysicsrunn1 @Ingy2009 @ChristopherLM20 @CajunMSTeacher That should be the standard'}\n",
            "{'id': 1517638922842480640, 'username': 'aaronraganfore', 'created_at': 'Fri Apr 22 22:58:10 +0000 2022', 'lng': -122.770673, 'lat': 45.517652, 'text': 'The key to a successful, productive day is setting positive goals each morning.'}\n",
            "{'id': 1517638949006569473, 'username': 'tmj_WAT_sales', 'created_at': 'Fri Apr 22 22:58:16 +0000 2022', 'lng': -122.1522354, 'lat': 47.7549485, 'text': 'Join the United Pacific team! See our latest #Sales job openings, including \"sales associate\", via the link in our… https://t.co/ie47y3OnR6'}\n",
            "{'id': 1517638971890671616, 'username': 'krypticofficial', 'created_at': 'Fri Apr 22 22:58:21 +0000 2022', 'lng': -123.029015, 'lat': 44.935084, 'text': \"@Pokemon needs to drop an NFT collection. Tell me why this isn't a thing already? And if it is... Link me, I'm tryna get a Vaporeon lol 💦\"}\n",
            "{'id': 1517639006107754496, 'username': 'masterranma', 'created_at': 'Fri Apr 22 22:58:30 +0000 2022', 'lng': -122.180876, 'lat': 47.503414, 'text': '\"Eco-Fiction for Earth Day\" display at The Renton Highlands Library ..#ecofiction #earthday #books #bookdisplay… https://t.co/lopXS4B4qq'}\n",
            "{'id': 1517639018925617152, 'username': 'rezirdee', 'created_at': 'Fri Apr 22 22:58:33 +0000 2022', 'lng': -120.58340150000001, 'lat': 44.1454365, 'text': '@dild0sNcupcakes @xoinxs @therachelslurrz It’s so funny I wish I remember the episode😭😭'}\n",
            "{'id': 1517639040681488384, 'username': 'hftjobs', 'created_at': 'Fri Apr 22 22:58:38 +0000 2022', 'lng': -120.3336392, 'lat': 47.4508822, 'text': 'Harbor Freight Tools is always looking for hardworking, roll-up-your-sleeves types who value our commitment to peop… https://t.co/x4RpaLNaDx'}\n",
            "{'id': 1517639044246691842, 'username': 'LoganMohtashami', 'created_at': 'Fri Apr 22 22:58:39 +0000 2022', 'lng': -120.58340150000001, 'lat': 44.1454365, 'text': \"Is the economy running hot? It's expansionary for sure still, but not like the data we saw last year.\"}\n",
            "{'id': 1517639044259188738, 'username': '1nvisigirl', 'created_at': 'Fri Apr 22 22:58:39 +0000 2022', 'lng': -120.58340150000001, 'lat': 44.1454365, 'text': \"This yarn has been discontinued and I have a project I can't finish without it. Halp! Anyone have some in their sta… https://t.co/c7ToXPvvig\"}\n",
            "{'id': 1517639053360832513, 'username': 'Lil_K313', 'created_at': 'Fri Apr 22 22:58:41 +0000 2022', 'lng': -123.2793435, 'lat': 44.5692455, 'text': \"Hey Everett,That's all right. That's OK. Because your going to pump our gas some day.#TCDustDevils… https://t.co/vOuiLUBWak\"}\n",
            "{'id': 1517639058540826624, 'username': 'maxwalkerkicks', 'created_at': 'Fri Apr 22 22:58:42 +0000 2022', 'lng': -122.455344, 'lat': 47.242960499999995, 'text': '@Chris_Sailer @JakeCookus @BeaverFootball @CoachSaparto @ThePuntFactory @RylandSpencer @bprepfootball Thank you Coach!'}\n",
            "{'id': 1517639076119072768, 'username': 'jaeyvette', 'created_at': 'Fri Apr 22 22:58:46 +0000 2022', 'lng': -122.7654085, 'lat': 47.039416, 'text': 'I love my twin sm'}\n",
            "{'id': 1517639094771191808, 'username': 'Oregontider', 'created_at': 'Fri Apr 22 22:58:51 +0000 2022', 'lng': -122.791854, 'lat': 45.424870999999996, 'text': \"@Jimryan015 @seattletimes You'll be busy.. alot of crime there.\"}\n",
            "{'id': 1517639100882325505, 'username': 'gonzoxb', 'created_at': 'Fri Apr 22 22:58:52 +0000 2022', 'lng': -120.882482, 'lat': 47.273022, 'text': 'happy earth day, ft. my favorite drone shots💚 https://t.co/TxXv99Z4py'}\n",
            "{'id': 1517639128589893633, 'username': 'alyknits', 'created_at': 'Fri Apr 22 22:58:59 +0000 2022', 'lng': -120.882482, 'lat': 47.273022, 'text': '@kariebookish @Jessie_AtHome Wise. Always satisfy your own curiosity about issues like this.'}\n",
            "{'id': 1517639132465532929, 'username': 'everyEarthquake', 'created_at': 'Fri Apr 22 22:59:00 +0000 2022', 'lng': -113.8561667, 'lat': 47.5045, 'text': 'USGS reports a M-0.55 earthquake, 11 km WSW of Condon, Montana on 4/22/22 @ 12:50:55 UTC https://t.co/MATa0CM9Ly #earthquake'}\n",
            "{'id': 1517639138345840640, 'username': 'pdxpolicelog', 'created_at': 'Fri Apr 22 22:59:01 +0000 2022', 'lng': -122.660356, 'lat': 45.530196, 'text': 'UNWANTED PERSON at 500 NE HOLLADAY ST, PORT [Portland Police #PP22000106697] 15:56 #pdx911'}\n",
            "{'id': 1517639167685001218, 'username': 'JSHTRealEstate', 'created_at': 'Fri Apr 22 22:59:08 +0000 2022', 'lng': -122.334461, 'lat': 47.307568, 'text': 'Moose has been waiting since last summer for the #Cornhole boards. #Moose12 #MooseChronicles #EarthDay2022… https://t.co/A9R4KaGRnk'}\n",
            "{'id': 1517639176434241536, 'username': 'jaeyvette', 'created_at': 'Fri Apr 22 22:59:10 +0000 2022', 'lng': -122.7654085, 'lat': 47.039416, 'text': 'I can’t wait to buy her a Chanel bag'}\n",
            "{'id': 1517639181031276544, 'username': 'salsaverde81', 'created_at': 'Fri Apr 22 22:59:11 +0000 2022', 'lng': -122.3306025, 'lat': 47.614817, 'text': '@DaMayor76107 UGK4LIFE! P.A.T to be exact'}\n",
            "{'id': 1517639188522278914, 'username': 'winbmar', 'created_at': 'Fri Apr 22 22:59:13 +0000 2022', 'lng': -122.29648850000001, 'lat': 47.442583, 'text': '@loganeatsbutter i try to keep my balls quaffable'}\n",
            "{'id': 1517639194801106944, 'username': 'hotbbyvee', 'created_at': 'Fri Apr 22 22:59:15 +0000 2022', 'lng': -122.3306025, 'lat': 47.614817, 'text': 'Some people gotta learn how to not mix hurt &amp; anger together. Find God.'}\n",
            "{'id': 1517639215776890880, 'username': 'RichRichroby1', 'created_at': 'Fri Apr 22 22:59:20 +0000 2022', 'lng': -122.28426400000001, 'lat': 47.176458999999994, 'text': '@komonews Helping them move!'}\n",
            "{'id': 1517639232780599297, 'username': 'janellej2727', 'created_at': 'Fri Apr 22 22:59:24 +0000 2022', 'lng': -120.882482, 'lat': 47.273022, 'text': 'Morning at the Skagit Valley Tulip Festival. Peak bloom this week. #tulips #MtVernon #Roozengaarde https://t.co/xYlsk3kupS'}\n",
            "{'id': 1517639250698715136, 'username': 'HonMyChest', 'created_at': 'Fri Apr 22 22:59:28 +0000 2022', 'lng': -122.6783853, 'lat': 45.515232, 'text': 'SPFPP 227: Hanging Herpes Over my Head  https://t.co/0CpXYunSio'}\n",
            "{'id': 1517639322572255232, 'username': 'coastaln8v73', 'created_at': 'Fri Apr 22 22:59:45 +0000 2022', 'lng': -117.1542695, 'lat': 46.730822, 'text': 'Busted out of work like Fred Flintstone leaving the rock quarry. Happy Friyay https://t.co/u0XpfPZbQj'}\n",
            "{'id': 1517639327928360960, 'username': 'urth2ang', 'created_at': 'Fri Apr 22 22:59:46 +0000 2022', 'lng': -122.630908, 'lat': 45.536402, 'text': 'i was bummed out cause I didn’t go to Dave Chappelle’s show the other night &amp; he came in to eat at my job today.. d… https://t.co/vtJCHZ4ITx'}\n",
            "{'id': 1517639339928285184, 'username': 'karynotype', 'created_at': 'Fri Apr 22 22:59:49 +0000 2022', 'lng': -122.314552, 'lat': 47.651545, 'text': 'Post kayak cocktails #partyinthefrontfoegeintheback #iykyk #sunburninseattle https://t.co/ZpnOxPiFMs'}\n",
            "{'id': 1517639347226304512, 'username': 'yng_uni', 'created_at': 'Fri Apr 22 22:59:51 +0000 2022', 'lng': -122.3306025, 'lat': 47.614817, 'text': '@BruMarquezine as the marqueziners are saying after your post for chopard, my luxurious bb \\U0001f90d♥️🖤😘😘😘 https://t.co/uYj1dUZ3h0'}\n",
            "{'id': 1517639372874543104, 'username': 'tmj_sea_transp', 'created_at': 'Fri Apr 22 22:59:57 +0000 2022', 'lng': -122.0981342, 'lat': 47.6747173, 'text': 'This job might be a great fit for you: PT Preload Simulation - https://t.co/V7sXVLl44u #Transportation #Redmond, WA'}\n",
            "{'id': 1517639398698889216, 'username': 'olmos_nick', 'created_at': 'Fri Apr 22 23:00:03 +0000 2022', 'lng': -120.58340150000001, 'lat': 44.1454365, 'text': '@ThePettiestLA If that’s the case I guess Timberwolves fans are not allowed to say a word about the finals 💀😭'}\n",
            "{'id': 1517639400498159616, 'username': 'Longrev4', 'created_at': 'Fri Apr 22 23:00:04 +0000 2022', 'lng': -122.630908, 'lat': 45.536402, 'text': 'Thank You Jesus for this extended travel. We respect our President @POTUS and the Air Space Around #AirForceOne Sti… https://t.co/wqVoeHnBpo'}\n",
            "{'id': 1517639400473063424, 'username': 'roseburgweather', 'created_at': 'Fri Apr 22 23:00:04 +0000 2022', 'lng': -123.341736, 'lat': 43.216503, 'text': 'Temperature: 60.1 F (15.6 C)Relative Humidity: 49%Wind: from the W (270 degrees) at 6 MPH (5 KT)Sky conditions: overcast'}\n",
            "{'id': 1517639419078971392, 'username': 'Punished_Shoog', 'created_at': 'Fri Apr 22 23:00:08 +0000 2022', 'lng': -122.630908, 'lat': 45.536402, 'text': '@tahukann How could you have freckles?!'}\n",
            "{'id': 1517639419200622592, 'username': 'vincentmvdm', 'created_at': 'Fri Apr 22 23:00:08 +0000 2022', 'lng': -122.3306025, 'lat': 47.614817, 'text': '@brian_lovin @figma @framer The override sends a message to the Figma plugin using postMessage.You can make that… https://t.co/69FREBJCkx'}\n",
            "{'id': 1517639441212354560, 'username': 'maranicole_l', 'created_at': 'Fri Apr 22 23:00:13 +0000 2022', 'lng': -122.16076749999999, 'lat': 47.4506245, 'text': 'Shopping at Costco is like the next level up from shopping at Target 😭💔'}\n",
            "{'id': 1517639465526710272, 'username': 'karynotype', 'created_at': 'Fri Apr 22 23:00:19 +0000 2022', 'lng': -122.3306025, 'lat': 47.614817, 'text': '@kristinnharper We will be in Ballard tomorrow—are you around?!'}\n"
          ]
        },
        {
          "output_type": "display_data",
          "data": {
            "text/plain": [
              "<IPython.core.display.Javascript object>"
            ],
            "application/javascript": [
              "\n",
              "    async function download(id, filename, size) {\n",
              "      if (!google.colab.kernel.accessAllowed) {\n",
              "        return;\n",
              "      }\n",
              "      const div = document.createElement('div');\n",
              "      const label = document.createElement('label');\n",
              "      label.textContent = `Downloading \"${filename}\": `;\n",
              "      div.appendChild(label);\n",
              "      const progress = document.createElement('progress');\n",
              "      progress.max = size;\n",
              "      div.appendChild(progress);\n",
              "      document.body.appendChild(div);\n",
              "\n",
              "      const buffers = [];\n",
              "      let downloaded = 0;\n",
              "\n",
              "      const channel = await google.colab.kernel.comms.open(id);\n",
              "      // Send a message to notify the kernel that we're ready.\n",
              "      channel.send({})\n",
              "\n",
              "      for await (const message of channel.messages) {\n",
              "        // Send a message to notify the kernel that we're ready.\n",
              "        channel.send({})\n",
              "        if (message.buffers) {\n",
              "          for (const buffer of message.buffers) {\n",
              "            buffers.push(buffer);\n",
              "            downloaded += buffer.byteLength;\n",
              "            progress.value = downloaded;\n",
              "          }\n",
              "        }\n",
              "      }\n",
              "      const blob = new Blob(buffers, {type: 'application/binary'});\n",
              "      const a = document.createElement('a');\n",
              "      a.href = window.URL.createObjectURL(blob);\n",
              "      a.download = filename;\n",
              "      div.appendChild(a);\n",
              "      a.click();\n",
              "      div.remove();\n",
              "    }\n",
              "  "
            ]
          },
          "metadata": {}
        },
        {
          "output_type": "display_data",
          "data": {
            "text/plain": [
              "<IPython.core.display.Javascript object>"
            ],
            "application/javascript": [
              "download(\"download_98c5e0ff-e30f-48ae-9ec9-8bf66ad45878\", \"geotweets.csv\", 12139)"
            ]
          },
          "metadata": {}
        },
        {
          "output_type": "stream",
          "name": "stdout",
          "text": [
            "the csv has been downloaded to your local computer. The program has been completed successfully.\n"
          ]
        }
      ],
      "source": [
        "if __name__ == \"__main__\":\n",
        "    # These are provided to you through the Twitter API after you create a account\n",
        "    # register a Twitter App to get the keys and access tokens.\n",
        "    output_file = '/gdrive/My Drive/geotweets.csv'\n",
        "\n",
        "    # Apply for your own Twitter API keys at https://developer.twitter.com/en/apply-for-access\n",
        "    consumer_key = HIDDEN\n",
        "    consumer_secret = HIDDEN\n",
        "    access_token = HIDDEN\n",
        "    access_token_secret = HIDDEN\n",
        "\n",
        "    myauth = tweepy.OAuthHandler(consumer_key, consumer_secret)\n",
        "    myauth.set_access_token(access_token, access_token_secret)\n",
        "\n",
        "    # LOCATIONS are the longitude, latitude coordinate corners for a box that restricts the\n",
        "    # geographic area from which you will stream tweets. The first two define the southwest\n",
        "    # corner of the box and the second two define the northeast corner of the box.\n",
        "    LOCATIONS = [  -123.896474,46.316598,  -117.161956, 48.917613,  # Washington\n",
        "                  -124.237119,42.055434, -116.736991, 45.741811,  # Oregon\n",
        "                 -112.930126,44.592974, -104.160725, 48.924344]  # Montana\n",
        "\n",
        "    stream_listener = StreamListener(time_limit=300, file=output_file)\n",
        "    stream = tweepy.Stream(auth=myauth, listener=stream_listener)\n",
        "    stream.filter(locations=LOCATIONS, languages=['en'], encoding=\"utf-8\")"
      ]
    },
    {
      "cell_type": "code",
      "source": [
        "· class StreamListener(tweepy.StreamListener):\n",
        "    \"\"\"tweepy.StreamListener is a class provided by tweepy used to access\n",
        "    the Twitter Streaming API to collect tweets in real-time.\n",
        "    \"\"\"\n",
        "\n",
        "    def __init__(self, time_limit=60, file=\"\"):\n",
        "        \"\"\"class initialization\"\"\"\n",
        "        self.start_time = time.time()\n",
        "        self.limit = time_limit\n",
        "        self.result = []\n",
        "        self.f = file\n",
        "        super(StreamListener, self).__init__()\n",
        "\n",
        "    def on_data(self, data):\n",
        "        \"\"\"This is called when data are streamed in.\"\"\"\n",
        "        if (time.time() - self.start_time) < self.limit:\n",
        "            datajson = json.loads(data)\n",
        "            # print(datajson, \"\\n\")\n",
        "            if 'id' not in datajson.keys():\n",
        "                time.sleep(10)\n",
        "            else:\n",
        "                id = datajson['id']\n",
        "                username = datajson['user']['screen_name']\n",
        "                created_at = datajson['created_at']\n",
        "                text = datajson['text'].strip().replace(\"\\n\", \"\")\n",
        "\n",
        "                # process the geo-tags\n",
        "                if datajson['coordinates'] == None:\n",
        "                    try:\n",
        "                        bbox = datajson['place']['bounding_box']['coordinates'][0]\n",
        "                        lng = (bbox[0][0] + bbox[2][0]) / 2.0\n",
        "                        lat = (bbox[0][1] + bbox[1][1]) / 2.0\n",
        "                    except:\n",
        "                        lat = 0\n",
        "                        lng = 0\n",
        "                else:\n",
        "                    lng = datajson['coordinates']['coordinates'][0]\n",
        "                    lat = datajson['coordinates']['coordinates'][1]\n",
        "\n",
        "                if lat != 0:\n",
        "                    row = {\n",
        "                        'id': id,\n",
        "                        'username': username,\n",
        "                        'created_at': created_at,\n",
        "                        'lng': lng,\n",
        "                        'lat': lat,\n",
        "                        'text': text\n",
        "                    }\n",
        "                    print(row)\n",
        "                    self.result.append(row)\n",
        "                else:\n",
        "                    pass\n",
        "        else:\n",
        "            df = pd.DataFrame(self.result)\n",
        "            df.to_csv(self.f, index=False)\n",
        "            # download the csv to your local computer\n",
        "            files.download(self.f)\n",
        "            print(\"the csv has been downloaded to your local computer. The program has been completed successfully.\")\n",
        "            return False"
      ],
      "metadata": {
        "id": "WOhBzOMzMGWt"
      },
      "execution_count": null,
      "outputs": []
    }
  ],
  "metadata": {
    "colab": {
      "collapsed_sections": [],
      "name": "Copy of Copy of 02_geosearch.ipynb",
      "provenance": []
    },
    "kernelspec": {
      "display_name": "Python 3",
      "language": "python",
      "name": "python3"
    },
    "language_info": {
      "codemirror_mode": {
        "name": "ipython",
        "version": 3
      },
      "file_extension": ".py",
      "mimetype": "text/x-python",
      "name": "python",
      "nbconvert_exporter": "python",
      "pygments_lexer": "ipython3",
      "version": "3.7.4"
    }
  },
  "nbformat": 4,
  "nbformat_minor": 0
}